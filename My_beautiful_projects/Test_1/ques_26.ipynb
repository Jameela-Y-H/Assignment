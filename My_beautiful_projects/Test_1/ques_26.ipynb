{
  "nbformat": 4,
  "nbformat_minor": 0,
  "metadata": {
    "colab": {
      "provenance": []
    },
    "kernelspec": {
      "name": "python3",
      "display_name": "Python 3"
    },
    "language_info": {
      "name": "python"
    }
  },
  "cells": [
    {
      "cell_type": "markdown",
      "source": [
        "Apple Stock"
      ],
      "metadata": {
        "id": "fekkNdX6X_o_"
      }
    },
    {
      "cell_type": "markdown",
      "source": [
        "Introduction:\n",
        "We are going to use Apple's stock price."
      ],
      "metadata": {
        "id": "5r5rFnwvYDLx"
      }
    },
    {
      "cell_type": "markdown",
      "source": [
        "Step 1. Import the necessary libraries"
      ],
      "metadata": {
        "id": "B8IhUgw3YDjD"
      }
    },
    {
      "cell_type": "code",
      "source": [
        "import numpy as np\n",
        "import pandas as pd"
      ],
      "metadata": {
        "id": "Raf9UefLYSPN"
      },
      "execution_count": 4,
      "outputs": []
    },
    {
      "cell_type": "markdown",
      "source": [
        "Step 2. Import the dataset from this address"
      ],
      "metadata": {
        "id": "fWmrZCNzYDoL"
      }
    },
    {
      "cell_type": "code",
      "source": [
        "ap = pd.read_csv(\"apple_data.csv\")"
      ],
      "metadata": {
        "id": "mh3WeEBWYS5U"
      },
      "execution_count": 5,
      "outputs": []
    },
    {
      "cell_type": "markdown",
      "source": [
        "Step 3. Assign it to a variable apple"
      ],
      "metadata": {
        "id": "1BMS2HVLYTkR"
      }
    },
    {
      "cell_type": "code",
      "source": [
        "apple = pd.DataFrame(ap)"
      ],
      "metadata": {
        "id": "qOCtik1XYWwR"
      },
      "execution_count": 6,
      "outputs": []
    },
    {
      "cell_type": "markdown",
      "source": [
        "Step 4. Check out the type of the columns"
      ],
      "metadata": {
        "id": "6wySvB99YW-I"
      }
    },
    {
      "cell_type": "code",
      "source": [
        "#type(apple)  //This is irrelevant but it is used to find the type of data series or dataframe\n",
        "apple.dtypes"
      ],
      "metadata": {
        "id": "NOIK16PkYaIZ"
      },
      "execution_count": null,
      "outputs": []
    },
    {
      "cell_type": "markdown",
      "source": [
        "Step 5. Transform the Date column as a datetime type"
      ],
      "metadata": {
        "id": "_OP_E8NPYasN"
      }
    },
    {
      "cell_type": "code",
      "source": [
        "apple['Date']=pd.to_datetime(apple['Date'])\n",
        "print(apple['Date'].dtype)"
      ],
      "metadata": {
        "id": "RkORDMxuYdIA"
      },
      "execution_count": null,
      "outputs": []
    },
    {
      "cell_type": "markdown",
      "source": [
        "Step 6. Set the date as the index"
      ],
      "metadata": {
        "id": "HsdA-gHkYdhE"
      }
    },
    {
      "cell_type": "code",
      "source": [
        "apple.head()"
      ],
      "metadata": {
        "id": "1uNTTI2HsbuW"
      },
      "execution_count": null,
      "outputs": []
    },
    {
      "cell_type": "code",
      "source": [
        "apple.info"
      ],
      "metadata": {
        "id": "WhYTZhyOv_-K"
      },
      "execution_count": null,
      "outputs": []
    },
    {
      "cell_type": "code",
      "source": [
        "## drop the 'Date' column\n",
        "#apple = apple.drop('Date', axis=1)\n",
        "\n",
        "# set the index to be the 'Date' column\n",
        "apple = apple.set_index('Date')\n"
      ],
      "metadata": {
        "id": "tAredXInYmI9"
      },
      "execution_count": 17,
      "outputs": []
    },
    {
      "cell_type": "code",
      "source": [
        "apple.head()"
      ],
      "metadata": {
        "id": "GGUefz0msk0s"
      },
      "execution_count": null,
      "outputs": []
    },
    {
      "cell_type": "markdown",
      "source": [
        "Step 7. Is there any duplicate dates?"
      ],
      "metadata": {
        "id": "7V422XU6YpJX"
      }
    },
    {
      "cell_type": "code",
      "source": [
        "\n",
        "apple['Date'].duplicated().any()\n"
      ],
      "metadata": {
        "colab": {
          "base_uri": "https://localhost:8080/"
        },
        "id": "-jVmaYGmYqRX",
        "outputId": "22747c78-0e19-4d33-f239-a63c0cdc6427"
      },
      "execution_count": 16,
      "outputs": [
        {
          "output_type": "execute_result",
          "data": {
            "text/plain": [
              "False"
            ]
          },
          "metadata": {},
          "execution_count": 16
        }
      ]
    },
    {
      "cell_type": "code",
      "source": [
        "apple.shape"
      ],
      "metadata": {
        "id": "4oMuVXNtjIqg"
      },
      "execution_count": null,
      "outputs": []
    },
    {
      "cell_type": "code",
      "source": [
        "apple.drop_duplicates('Date',inplace=True)"
      ],
      "metadata": {
        "id": "HmQrZscpjMZq"
      },
      "execution_count": null,
      "outputs": []
    },
    {
      "cell_type": "code",
      "source": [
        "apple.shape\n",
        "#no duplicates then"
      ],
      "metadata": {
        "id": "2FLNKD9gjblk"
      },
      "execution_count": null,
      "outputs": []
    },
    {
      "cell_type": "markdown",
      "source": [
        "Step 8. Ops...it seems the index is from the most recent date. Make the first entry the oldest date."
      ],
      "metadata": {
        "id": "qG4ZlXirYqeI"
      }
    },
    {
      "cell_type": "code",
      "source": [
        "apple = apple.sort_values('Date', ascending=True)\n"
      ],
      "metadata": {
        "id": "aPbMkcKlYtOr"
      },
      "execution_count": 19,
      "outputs": []
    },
    {
      "cell_type": "code",
      "source": [
        "apple.head()"
      ],
      "metadata": {
        "id": "uIkhqh0EpT3q"
      },
      "execution_count": null,
      "outputs": []
    },
    {
      "cell_type": "code",
      "source": [
        "apple.tail()"
      ],
      "metadata": {
        "id": "D0rlFvkHPi7h"
      },
      "execution_count": null,
      "outputs": []
    },
    {
      "cell_type": "markdown",
      "source": [
        "Step 9. Get the last business day of each month"
      ],
      "metadata": {
        "id": "_ffkzTsuYtgC"
      }
    },
    {
      "cell_type": "code",
      "source": [
        "import pandas as pd\n",
        "from pandas.tseries.offsets import BMonthEnd\n",
        "\n",
        "# Define start and end dates\n",
        "start_date = '1980-12-12'\n",
        "end_date = '2014-07-08'\n",
        "\n",
        "# Create a date range\n",
        "date_range = pd.date_range(start=start_date, end=end_date, freq='BM')\n",
        "#last_bday_of_month = date_range - BMonthEnd()\n",
        "#print(last_bday_of_month)\n",
        "print(date_range)"
      ],
      "metadata": {
        "id": "cNi8U_3iMm0x",
        "colab": {
          "base_uri": "https://localhost:8080/"
        },
        "outputId": "eaf6f3e9-1c10-459f-ba1d-6d41736ff9ee"
      },
      "execution_count": 22,
      "outputs": [
        {
          "output_type": "stream",
          "name": "stdout",
          "text": [
            "DatetimeIndex(['1980-12-31', '1981-01-30', '1981-02-27', '1981-03-31',\n",
            "               '1981-04-30', '1981-05-29', '1981-06-30', '1981-07-31',\n",
            "               '1981-08-31', '1981-09-30',\n",
            "               ...\n",
            "               '2013-09-30', '2013-10-31', '2013-11-29', '2013-12-31',\n",
            "               '2014-01-31', '2014-02-28', '2014-03-31', '2014-04-30',\n",
            "               '2014-05-30', '2014-06-30'],\n",
            "              dtype='datetime64[ns]', length=403, freq='BM')\n"
          ]
        }
      ]
    },
    {
      "cell_type": "code",
      "source": [
        "apple_month = apple.resample('BM').mean()\n",
        "#//This will also give the same output"
      ],
      "metadata": {
        "id": "CnTxZhjMOk3Q"
      },
      "execution_count": 29,
      "outputs": []
    },
    {
      "cell_type": "code",
      "source": [
        "#monthly_dates = apple_month.index.strftime('%Y-%m')\n",
        "#print(monthly_dates)"
      ],
      "metadata": {
        "id": "Pg_l0kg8OxkB"
      },
      "execution_count": null,
      "outputs": []
    },
    {
      "cell_type": "markdown",
      "source": [
        "Step 10. What is the difference in days between the first day and the oldest"
      ],
      "metadata": {
        "id": "pWq_XiqbYwr2"
      }
    },
    {
      "cell_type": "code",
      "source": [
        "(apple.index.max() - apple.index.min()).days"
      ],
      "metadata": {
        "id": "td59tB0vYzcW"
      },
      "execution_count": null,
      "outputs": []
    },
    {
      "cell_type": "markdown",
      "source": [
        "Step 11. How many months in the data we have?"
      ],
      "metadata": {
        "id": "S7nHkHX1Yz0j"
      }
    },
    {
      "cell_type": "code",
      "source": [
        "apple_months = apple.resample('BM').mean()\n",
        "\n",
        "len(apple_months.index)"
      ],
      "metadata": {
        "id": "mqOWJxsWY29T"
      },
      "execution_count": null,
      "outputs": []
    },
    {
      "cell_type": "markdown",
      "source": [
        "Step 12. Plot the 'Adj Close' value. Set the size of the figure to 13.5 x 9 inches"
      ],
      "metadata": {
        "id": "HYZeUFRxY3KD"
      }
    },
    {
      "cell_type": "code",
      "source": [
        "appl_open = apple['Adj Close'].plot(title = \"Apple Stock\")"
      ],
      "metadata": {
        "id": "i7bKM4y8Y7Uk",
        "colab": {
          "base_uri": "https://localhost:8080/",
          "height": 452
        },
        "outputId": "7cb3b2c0-7660-4a65-917f-49092f030b98"
      },
      "execution_count": 7,
      "outputs": [
        {
          "output_type": "display_data",
          "data": {
            "text/plain": [
              "<Figure size 640x480 with 1 Axes>"
            ],
            "image/png": "[encoded data removed]"
          },
          "metadata": {}
        }
      ]
    },
    {
      "cell_type": "code",
      "source": [
        "fig = appl_open.get_figure()\n",
        "fig.set_size_inches(13.5, 9)\n",
        "fig"
      ],
      "metadata": {
        "colab": {
          "base_uri": "https://localhost:8080/",
          "height": 450
        },
        "id": "P0Qpk9KSvWTG",
        "outputId": "0b90a699-a089-4b26-9d19-4ac448435581"
      },
      "execution_count": 23,
      "outputs": [
        {
          "output_type": "execute_result",
          "data": {
            "text/plain": [
              "<Figure size 1350x900 with 1 Axes>"
            ],
            "image/png": "[encoded data removed]"
          },
          "metadata": {},
          "execution_count": 23
        }
      ]
    },
    {
      "cell_type": "markdown",
      "source": [
        "BONUS: Create your own question and answer it."
      ],
      "metadata": {
        "id": "xqbbeX07Y7hP"
      }
    },
    {
      "cell_type": "code",
      "source": [
        "#I was curious to know how many values are between 0 and 1 in adjacent close.\n",
        "apple_filtered = apple[(apple['Adj Close']<1) & (apple['Adj Close']>0)].count()\n",
        "apple_filtered"
      ],
      "metadata": {
        "id": "P4mxrCG6Y_eQ",
        "colab": {
          "base_uri": "https://localhost:8080/"
        },
        "outputId": "16e2d1af-f3d9-44e3-e752-cbff7625c627"
      },
      "execution_count": 25,
      "outputs": [
        {
          "output_type": "execute_result",
          "data": {
            "text/plain": [
              "Date         2420\n",
              "Open         2420\n",
              "High         2420\n",
              "Low          2420\n",
              "Close        2420\n",
              "Volume       2420\n",
              "Adj Close    2420\n",
              "dtype: int64"
            ]
          },
          "metadata": {},
          "execution_count": 25
        }
      ]
    },
    {
      "cell_type": "code",
      "source": [
        "adjuniq=apple['Adj Close'].unique()\n",
        "adjuniq"
      ],
      "metadata": {
        "colab": {
          "base_uri": "https://localhost:8080/"
        },
        "id": "WH4NrtqI1GDd",
        "outputId": "4e60c2fe-0e69-46e5-ea88-873fdd5102bc"
      },
      "execution_count": 29,
      "outputs": [
        {
          "output_type": "execute_result",
          "data": {
            "text/plain": [
              "array([95.35, 95.97, 94.03, ...,  0.19,  0.18,  0.17])"
            ]
          },
          "metadata": {},
          "execution_count": 29
        }
      ]
    },
    {
      "cell_type": "code",
      "source": [
        "# i wanted to seggregate the values into bins\n",
        "adj_close_intervals = pd.cut(apple['Adj Close'], bins=10)\n",
        "\n",
        "# print the intervals and their counts\n",
        "print(adj_close_intervals.value_counts())"
      ],
      "metadata": {
        "colab": {
          "base_uri": "https://localhost:8080/"
        },
        "id": "qy9ecIwp1ppX",
        "outputId": "52ed55f9-4b3d-42b6-ae88-33affdf7a99a"
      },
      "execution_count": 32,
      "outputs": [
        {
          "output_type": "stream",
          "name": "stdout",
          "text": [
            "(0.0739, 9.781]     6451\n",
            "(9.781, 19.392]      543\n",
            "(19.392, 29.003]     375\n",
            "(67.447, 77.058]     202\n",
            "(38.614, 48.225]     185\n",
            "(77.058, 86.669]     175\n",
            "(48.225, 57.836]     164\n",
            "(57.836, 67.447]     151\n",
            "(29.003, 38.614]     142\n",
            "(86.669, 96.28]       77\n",
            "Name: Adj Close, dtype: int64\n"
          ]
        }
      ]
    }
  ]
}